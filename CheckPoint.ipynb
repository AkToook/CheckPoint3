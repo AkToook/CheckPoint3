{
 "cells": [
  {
   "cell_type": "code",
   "execution_count": 23,
   "id": "5abb77c2",
   "metadata": {},
   "outputs": [
    {
     "name": "stdout",
     "output_type": "stream",
     "text": [
      "36\n"
     ]
    }
   ],
   "source": [
    "import math\n",
    "sample_list = [2,3,6]\n",
    "result=math.prod(sample_list)\n",
    "print(result)\n"
   ]
  },
  {
   "cell_type": "code",
   "execution_count": 39,
   "id": "4edb287b",
   "metadata": {},
   "outputs": [
    {
     "name": "stdout",
     "output_type": "stream",
     "text": [
      "[(2, 1), (1, 2), (2, 3), (4, 4), (2, 5)]\n"
     ]
    }
   ],
   "source": [
    "sample_list=[(2, 5), (1, 2), (4, 4), (2, 3), (2, 1)]\n",
    "sample_list.sort(key=lambda x :x[-1])\n",
    "print(sample_list)"
   ]
  },
  {
   "cell_type": "code",
   "execution_count": 40,
   "id": "3bde6f08",
   "metadata": {},
   "outputs": [
    {
     "name": "stdout",
     "output_type": "stream",
     "text": [
      "{'a': 400, 'b': 400, 'c': 300, 'd': 400}\n"
     ]
    }
   ],
   "source": [
    "from collections import Counter\n",
    "\n",
    "d1 = {'a': 100, 'b': 200, 'c': 300}\n",
    "d2 = {'a': 300, 'b': 200, 'd': 400}\n",
    "\n",
    "combined_dict = Counter(d1) + Counter(d2)\n",
    "result = dict(combined_dict)\n",
    "\n",
    "print(result)\n"
   ]
  },
  {
   "cell_type": "code",
   "execution_count": 41,
   "id": "3af60867",
   "metadata": {},
   "outputs": [
    {
     "name": "stdout",
     "output_type": "stream",
     "text": [
      "Enter an integral number: 4\n",
      "{1: 1, 2: 4, 3: 9, 4: 16}\n"
     ]
    }
   ],
   "source": [
    "n = int(input(\"Enter an integral number: \"))\n",
    "\n",
    "result = {i: i*i for i in range(1, n+1)}\n",
    "\n",
    "print(result)\n"
   ]
  },
  {
   "cell_type": "code",
   "execution_count": 42,
   "id": "6c2b39dc",
   "metadata": {},
   "outputs": [
    {
     "name": "stdout",
     "output_type": "stream",
     "text": [
      "[('item1', '12.20'), ('item2', '15.10'), ('item3', '24.5')]\n"
     ]
    }
   ],
   "source": [
    "tuple_list = [('item1', '12.20'), ('item2', '15.10'), ('item3', '24.5')]\n",
    "\n",
    "sorted_list = sorted(tuple_list, key=lambda x: float(x[1]))\n",
    "\n",
    "print(sorted_list)\n"
   ]
  },
  {
   "cell_type": "code",
   "execution_count": 43,
   "id": "6b670fcb",
   "metadata": {},
   "outputs": [
    {
     "name": "stdout",
     "output_type": "stream",
     "text": [
      "Initial set: {0, 1, 2, 3, 4}\n",
      "Iterating over the set:\n",
      "0\n",
      "1\n",
      "2\n",
      "3\n",
      "4\n",
      "Set after adding members: {0, 1, 2, 3, 4, 5, 6}\n",
      "Set after removing items: {0, 1, 3, 5, 6}\n"
     ]
    }
   ],
   "source": [
    "\n",
    "my_set = {0, 1, 2, 3, 4}\n",
    "print(\"Initial set:\", my_set)\n",
    "\n",
    "\n",
    "print(\"Iterating over the set:\")\n",
    "for item in my_set:\n",
    "    print(item)\n",
    "\n",
    "\n",
    "my_set.update({5, 6})\n",
    "print(\"Set after adding members:\", my_set)\n",
    "\n",
    "my_set.remove(2)\n",
    "my_set.discard(4)\n",
    "print(\"Set after removing items:\", my_set)\n"
   ]
  },
  {
   "cell_type": "code",
   "execution_count": null,
   "id": "92c90b55",
   "metadata": {},
   "outputs": [],
   "source": []
  }
 ],
 "metadata": {
  "kernelspec": {
   "display_name": "Python 3 (ipykernel)",
   "language": "python",
   "name": "python3"
  },
  "language_info": {
   "codemirror_mode": {
    "name": "ipython",
    "version": 3
   },
   "file_extension": ".py",
   "mimetype": "text/x-python",
   "name": "python",
   "nbconvert_exporter": "python",
   "pygments_lexer": "ipython3",
   "version": "3.10.9"
  }
 },
 "nbformat": 4,
 "nbformat_minor": 5
}
